{
 "cells": [
  {
   "cell_type": "code",
   "execution_count": null,
   "id": "dc235dfe",
   "metadata": {
    "editable": true,
    "scrolled": true,
    "slideshow": {
     "slide_type": ""
    },
    "tags": []
   },
   "outputs": [],
   "source": [
    "import pandas as pd\n",
    "import geopandas as gpd\n",
    "import os"
   ]
  },
  {
   "attachments": {},
   "cell_type": "markdown",
   "id": "1a09b62d",
   "metadata": {
    "editable": true,
    "slideshow": {
     "slide_type": ""
    },
    "tags": []
   },
   "source": [
    "### Define helper functions"
   ]
  },
  {
   "cell_type": "code",
   "execution_count": null,
   "id": "2818b12b",
   "metadata": {
    "editable": true,
    "scrolled": true,
    "slideshow": {
     "slide_type": ""
    },
    "tags": []
   },
   "outputs": [],
   "source": [
    "# Function to convert sq m to acres\n",
    "m2acres = lambda x: x * 0.00024711\n",
    "\n",
    "# Function to generate zone ID from state,\n",
    "# jurisdiction name & abbreviated district name\n",
    "def create_id(s, j, ad):\n",
    "    s = str(s).upper()\n",
    "    j = str(j).split('-')[0].strip().upper().split('/')[0]\n",
    "    ad = str(ad).replace('-', '').replace(' ', '').upper()\n",
    "    return f'{s}--{j}--{ad}'"
   ]
  },
  {
   "attachments": {},
   "cell_type": "markdown",
   "id": "d1f64e13",
   "metadata": {
    "editable": true,
    "slideshow": {
     "slide_type": ""
    },
    "tags": []
   },
   "source": [
    "### Define a function that reads and cleans up every GIS file"
   ]
  },
  {
   "cell_type": "code",
   "execution_count": null,
   "id": "e4163a92",
   "metadata": {
    "editable": true,
    "scrolled": true,
    "slideshow": {
     "slide_type": ""
    },
    "tags": []
   },
   "outputs": [],
   "source": [
    "def read_zoning_file(filepath):\n",
    "    try:\n",
    "        # Read GIS file into dataframe\n",
    "        gdf = (gpd\n",
    "               .read_file(filepath)\n",
    "               .filter(['State', 'Jurisdiction', 'AbbreviatedDistrict', 'geometry'])\n",
    "               .dropna(subset=['geometry']) # remove null geometries\n",
    "               .to_crs('EPSG:4326') # set projection to WGS 84 (lat/lon)\n",
    "              )\n",
    "        # Rename districts with no names to \"Not Zoned\"\n",
    "\n",
    "        gdf.AbbreviatedDistrict = gdf.AbbreviatedDistrict.fillna('Not Zoned')\n",
    "\n",
    "        # Create an ID column that combines jurisdiction and zoning name\n",
    "        gdf['id'] = gdf.apply(\n",
    "            lambda r: create_id(r.State, r.Jurisdiction, r.AbbreviatedDistrict), axis=1\n",
    "        )\n",
    "\n",
    "        # Calculate area (in acres) for each geometry\n",
    "        gdf['ZoneAcres'] = (gdf\n",
    "                            .to_crs('EPSG:6933') # reproject to equal area\n",
    "                            .geometry.area\n",
    "                            .apply(m2acres)\n",
    "                           )\n",
    "\n",
    "        # Calculate total area by zone\n",
    "        total_area_by_zone = (gdf\n",
    "                              .groupby('id')\n",
    "                              ['ZoneAcres']\n",
    "                              .sum()\n",
    "                             )\n",
    "\n",
    "        # Combine (dissolve) geometries by zone\n",
    "        gdf = gdf.dissolve(by='id')\n",
    "        gdf.ZoneAcres = total_area_by_zone # assign new total areas\n",
    "\n",
    "        # Move `id` from index to column\n",
    "        gdf = gdf.reset_index()\n",
    "\n",
    "        return gdf\n",
    "               \n",
    "    except:\n",
    "        print(f\"Error when reading {filepath}.\")"
   ]
  },
  {
   "attachments": {},
   "cell_type": "markdown",
   "id": "7b25662b",
   "metadata": {
    "editable": true,
    "slideshow": {
     "slide_type": ""
    },
    "tags": []
   },
   "source": [
    "### Read all GIS files using the function above"
   ]
  },
  {
   "cell_type": "code",
   "execution_count": null,
   "id": "77a8b6dd-91d9-4ac8-ac58-9f81fd22e10f",
   "metadata": {
    "editable": true,
    "slideshow": {
     "slide_type": ""
    },
    "tags": [
     "parameters"
    ]
   },
   "outputs": [],
   "source": [
    "# PARAMETERIZED\n",
    "# Overwritten in Github Actions with papermill\n",
    "HOME_DIRECTORY = \".\""
   ]
  },
  {
   "cell_type": "code",
   "execution_count": null,
   "id": "9f59a39d",
   "metadata": {
    "editable": true,
    "scrolled": true,
    "slideshow": {
     "slide_type": ""
    },
    "tags": []
   },
   "outputs": [],
   "source": [
    "# Folder with all GIS files\n",
    "zoning_folder = f\"{HOME_DIRECTORY}/gis\"\n",
    "\n",
    "# Read the folder to get all filenames (ignore hidden files)\n",
    "zoning_files = [x for x in os.listdir(zoning_folder) if x[-5:] == '.gpkg' ]\n",
    "\n",
    "# Read all zones into a single pandas dataframe\n",
    "gdfs = [ read_zoning_file(f\"{zoning_folder}/{filename}\")\n",
    "         for filename in zoning_files ]\n",
    "\n",
    "combined_df = pd.concat( gdfs ).reset_index(drop=True)"
   ]
  },
  {
   "attachments": {},
   "cell_type": "markdown",
   "id": "efe535d0",
   "metadata": {
    "editable": true,
    "slideshow": {
     "slide_type": ""
    },
    "tags": []
   },
   "source": [
    "### Derive \"zoneable\" area for each jurisdiction by subtracting federal/state land"
   ]
  },
  {
   "cell_type": "code",
   "execution_count": null,
   "id": "fifty-jumping",
   "metadata": {
    "editable": true,
    "scrolled": true,
    "slideshow": {
     "slide_type": ""
    },
    "tags": []
   },
   "outputs": [],
   "source": [
    "# Read federal-state-land GeoJSON\n",
    "fed_state_land = gpd.read_file(\n",
    "    f\"{HOME_DIRECTORY}/federal-state-dissolve.geojson\"\n",
    ").to_crs(epsg=4326)\n",
    "\n",
    "\n",
    "\n",
    "#$ Intersect with all zones\n",
    "# TODO: keep_geom_type=False should be true\n",
    "#! Different geometry types in Maui and Fed/state need to reconcile \n",
    "fed_state_land_ = gpd.overlay(\n",
    "    combined_df,\n",
    "    fed_state_land,\n",
    "    keep_geom_type=False,\n",
    "    how='intersection'\n",
    ")"
   ]
  },
  {
   "cell_type": "code",
   "execution_count": null,
   "id": "94ad2871",
   "metadata": {
    "scrolled": true
   },
   "outputs": [],
   "source": [
    "# Calculate acres\n",
    "fed_state_land_['FedStateAcres'] = (fed_state_land_\n",
    "    .to_crs(epsg=6933)\n",
    "    .geometry.area\n",
    "    .apply(m2acres)\n",
    ")\n",
    "\n",
    "# Account for repeating zone IDs\n",
    "fed_state_land_ = (fed_state_land_\n",
    "    .dissolve(by='id', aggfunc={'FedStateAcres': 'sum'})\n",
    "    .reset_index()\n",
    "    .filter(['id', 'FedStateAcres'])\n",
    ")\n",
    "\n",
    "# Add federal/state area per zoning district\n",
    "combined_df = combined_df.merge(\n",
    "    fed_state_land_,\n",
    "    on='id',\n",
    "    how='left'\n",
    ")\n",
    "\n",
    "# Calculate municipal (=zoneable) acres\n",
    "combined_df.FedStateAcres = combined_df.FedStateAcres.fillna(0)\n",
    "combined_df['MunicipalAcres'] = combined_df.ZoneAcres -\\\n",
    "    combined_df.FedStateAcres"
   ]
  },
  {
   "attachments": {},
   "cell_type": "markdown",
   "id": "667b5fa8",
   "metadata": {},
   "source": [
    "### Read zoning data from the spreadsheet"
   ]
  },
  {
   "cell_type": "code",
   "execution_count": null,
   "id": "abstract-protest",
   "metadata": {
    "editable": true,
    "scrolled": true,
    "slideshow": {
     "slide_type": ""
    },
    "tags": []
   },
   "outputs": [],
   "source": [
    "spreadsheet_path = f\"{HOME_DIRECTORY}/hawaii-zoning-data.csv\"\n",
    "\n",
    "zoning = pd.read_csv(spreadsheet_path, skiprows=1)\\\n",
    "    .loc[ :, 'State': 'Tooltip Notes' ]\n"
   ]
  },
  {
   "cell_type": "code",
   "execution_count": null,
   "id": "associate-finnish",
   "metadata": {
    "editable": true,
    "scrolled": true,
    "slideshow": {
     "slide_type": ""
    },
    "tags": []
   },
   "outputs": [],
   "source": [
    "zoning['Tooltip Notes'] = zoning['Tooltip Notes'].fillna('')\n",
    "\n",
    "# Remove spaces from column names\n",
    "zoning.columns = [x.strip() for x in zoning.columns.tolist()]\n",
    "\n",
    "# Trim all strings in the dataframe\n",
    "str_columns = zoning.select_dtypes(['object'])\n",
    "zoning[ str_columns.columns ] = str_columns.apply(lambda x: x.str.strip())"
   ]
  },
  {
   "cell_type": "code",
   "execution_count": null,
   "id": "440a583c",
   "metadata": {
    "scrolled": true
   },
   "outputs": [],
   "source": [
    "# Create id column (to perform linking later)\n",
    "zoning['id'] = zoning.apply(\n",
    "    lambda r: create_id(r.State, r.Jurisdiction, r['Abbreviated District Name']),\n",
    "    axis=1\n",
    ")"
   ]
  },
  {
   "attachments": {},
   "cell_type": "markdown",
   "id": "09a2121d",
   "metadata": {},
   "source": [
    "### Define a function to convert acre size to a letter category"
   ]
  },
  {
   "cell_type": "code",
   "execution_count": null,
   "id": "4ec9b4c4",
   "metadata": {
    "scrolled": true
   },
   "outputs": [],
   "source": [
    "# Converts min lot size into a predefined range\n",
    "#\n",
    "# No size requirement, or 0 acres -> A\n",
    "# 0.01-0.46 acres -> B\n",
    "# 0.47-0.91 acres -> C\n",
    "# 0.92-1.83 acres -> D\n",
    "# 0.92-1.83 acres -> E\n",
    "def min_lot_size(x):\n",
    "\n",
    "    #TODO: handle strings coming in\n",
    "    if(isinstance(x,str)):\n",
    "        try:\n",
    "            x = float( x.split(' ')[0].split('-')[0].replace(',', '') )\n",
    "        except:\n",
    "            return 'A'\n",
    "    if x != x or x == '': # null\n",
    "        return 'A'\n",
    "    \n",
    "    # x = float( x.split(' ')[0].split('-')[0].replace(',', '') )\n",
    "    \n",
    "    if x == 0:\n",
    "        return 'A'\n",
    "    if x <= 0.46:\n",
    "        return 'B'\n",
    "    if x <= 0.91:\n",
    "        return 'C'\n",
    "    if x <= 1.83:\n",
    "        return 'D'\n",
    "    \n",
    "    return 'E'"
   ]
  },
  {
   "attachments": {},
   "cell_type": "markdown",
   "id": "887d6336",
   "metadata": {},
   "source": [
    "### Derive new measures in the zoning data\n",
    "This includes \"minimum lot size requirement\" (true/false), \"minimum unit size requirement\" present (true/false), etc."
   ]
  },
  {
   "cell_type": "code",
   "execution_count": null,
   "id": "4aa44f50",
   "metadata": {
    "scrolled": true
   },
   "outputs": [],
   "source": [
    "zoning['AduMaxSizeLimit'] = ~zoning['ADU Max. Size (% of Main Unit)'].isna() | ~zoning['ADU Max. Size (SF)'].isna()\n",
    "\n",
    "# Min Unit Size requirement: transform columns K, O, T, AC into true/false\n",
    "zoning['1MUS'] = ~zoning['1-Family Min. Unit Size (SF)'].isna()\n",
    "zoning['2MUS'] = ~zoning['2-Family Min. Unit Size (SF)'].isna()\n",
    "zoning['3MUS'] = ~zoning['3-Family Min. Unit Size (SF)'].isna()\n",
    "zoning['4MUS'] = ~zoning['4+-Family Min. Unit Size (SF)'].isna()\n",
    "\n",
    "# Any minimum unit size is set? (for tooltip)\n",
    "zoning['MUS'] = zoning['1MUS'] | zoning['2MUS'] | zoning['3MUS'] | zoning['4MUS']\n",
    "\n",
    "# Min Lot Size\n",
    "zoning['1MLS'] = zoning['1-Family Min. Lot (ACRES)'].apply(min_lot_size)\n",
    "# TODO: Clean data\n",
    "zoning['2MLS'] = zoning['2-Family Min. Lot (ACRES)'].apply(min_lot_size)\n",
    "zoning['3MLS'] = zoning['3-Family Min. Lot (ACRES)'].apply(min_lot_size)\n",
    "zoning['4MLS'] = zoning['4+-Family Min. Lot (ACRES)'].apply(min_lot_size)\n",
    "\n",
    "# Elderly housing\n",
    "# 1F Elderly Only —> value from BM column\n",
    "# 2F Elderly Only —> value from BM column\n",
    "# 3F Elderly Only —> Yes if BM = Yes, otherwise value from Y column\n",
    "# 4F Elderly Only —> Yes if BM = Yes, otherwise value from AI column\n",
    "def is_elderly_only(row, col):\n",
    "    if row['Elderly Housing District'] == 'Yes':\n",
    "        return 'Yes'\n",
    "    return row[col]\n",
    "    \n",
    "zoning['1E'] = zoning['Elderly Housing District']\n",
    "zoning['2E'] = zoning['Elderly Housing District']\n",
    "zoning['3E'] = zoning.apply(lambda row: is_elderly_only(row, '3-Family Elderly Housing Only'), axis=1).fillna('No')\n",
    "zoning['4E'] = zoning.apply(lambda row: is_elderly_only(row, '4+-Family Elderly Housing Only'), axis=1).fillna('No')\n",
    "\n",
    "# Create ADU Elderly only\n",
    "zoning['AEld'] = zoning['ADU Elderly Housing Only'].fillna('No')\n"
   ]
  },
  {
   "attachments": {},
   "cell_type": "markdown",
   "id": "fcab4243",
   "metadata": {},
   "source": [
    "### Generate text for minimum parking requirements\n",
    "This was needed for Connecticut Zoning Atals and may be optional for other atlases."
   ]
  },
  {
   "cell_type": "code",
   "execution_count": null,
   "id": "1fc34d19",
   "metadata": {
    "scrolled": true
   },
   "outputs": [],
   "source": [
    "# Minimum parking required anywhere? for tooltip\n",
    "\n",
    "def parking_text(row):\n",
    "    one = row['1-Family Min. # Parking Spaces']\n",
    "    two = row['2-Family Min. # Parking Spaces Per 2+ BR']\n",
    "    two_ = row['2-Family Min. # Parking Spaces Per Studio or 1BR']\n",
    "    three = row['3-Family Min. # Parking Spaces Per 2+ BR']\n",
    "    three_ = row['3-Family Min. # Parking Spaces Per Studio or 1BR']\n",
    "    four = row['4+-Family Min. # Parking Spaces Per Studio or 1BR']\n",
    "    four_ = row['4+-Family Min. # Parking Spaces Per 2+ BR']\n",
    "    \n",
    "    text = []\n",
    "    if one == one:\n",
    "        text.append(str(one) + ' for 1-family')\n",
    "    if two == two:\n",
    "        text.append(str(two) + ' for 2-family (total)')\n",
    "    if two_ == two_:\n",
    "        text.append(str(two_) + ' for 2-family (per studio/1br)')\n",
    "    if three == three:\n",
    "        text.append(str(three) + ' for 3-family (total)')\n",
    "    if three_ == three_:\n",
    "        text.append(str(three_) + ' for 3-family (per studio/1br)')\n",
    "    if four == four:\n",
    "        text.append(str(four) + ' for 4+ family (total)')\n",
    "    if four_ == four_:\n",
    "        text.append(str(four_) + ' for 2+ family (per studio/1br)')\n",
    "\n",
    "    return '; '.join(text)\n",
    "\n",
    "#TODO: Clean Data\n",
    "zoning['PK'] = zoning.apply(parking_text, axis=1)\n"
   ]
  },
  {
   "attachments": {},
   "cell_type": "markdown",
   "id": "3b138b17",
   "metadata": {},
   "source": [
    "### Combine GIS and zoning data on the `id` column"
   ]
  },
  {
   "cell_type": "code",
   "execution_count": null,
   "id": "7896edb9",
   "metadata": {
    "scrolled": true
   },
   "outputs": [],
   "source": [
    "final = combined_df.merge(\n",
    "    zoning,\n",
    "    on='id',\n",
    "    how='left',\n",
    "    suffixes=('', '_from_zoning')\n",
    ")\n",
    "\n",
    "zoning.drop(columns=['id'], inplace=True)"
   ]
  },
  {
   "attachments": {},
   "cell_type": "markdown",
   "id": "3058ef5b",
   "metadata": {},
   "source": [
    "### Define the `overlay()` function"
   ]
  },
  {
   "cell_type": "code",
   "execution_count": null,
   "id": "00e15cc6",
   "metadata": {
    "editable": true,
    "scrolled": true,
    "slideshow": {
     "slide_type": ""
    },
    "tags": []
   },
   "outputs": [],
   "source": [
    "# Given jurisdiction name and abbreviated district name,\n",
    "# combine zoning regulations from base district and overlay district (has priority)\n",
    "# If no base or overlay name are given, deduce from zone using `sep` as a separator between base and overlay\n",
    "# For example, R-10/RM represents a base of R-10 and an overlay of RM\n",
    "def overlay(j, ad, base=None, overlay=None, sep='/'):\n",
    "    \n",
    "    if not base:\n",
    "        base = ad.split(sep)[0].strip()\n",
    "        \n",
    "    if not overlay:\n",
    "        overlay = ad.split(sep)[1].strip()\n",
    "    \n",
    "    col_from = 'Type of Zoning District'\n",
    "    col_to = 'PK' # Parking text column created above\n",
    "    \n",
    "    # Get proper zoning values from the spreadsheet\n",
    "    base_values = zoning.loc[ zoning.Jurisdiction.eq(j) & zoning.AbbreviatedDistrict.eq(base), col_from : col_to ].values\n",
    "    overlay_values = zoning.loc[ zoning.Jurisdiction.eq(j) & zoning.AbbreviatedDistrict.eq(overlay), col_from : col_to ].values\n",
    "    \n",
    "    if len(base_values) != 1:\n",
    "        print(f'Base layer {base} in {j} does not exist, or is not unique!')\n",
    "        return\n",
    "     \n",
    "    if len(overlay_values) != 1:\n",
    "        print(f'Overlay layer {overlay} in {j} does not exist, or is not unique!')\n",
    "        return\n",
    "    \n",
    "    \n",
    "    base_values = base_values[0]\n",
    "    overlay_values = overlay_values[0]\n",
    "    \n",
    "    combined_values = [ o if (o == o and o !='' and o != 'Overlay')\n",
    "                            else b for b, o in zip(base_values, overlay_values) ]\n",
    "\n",
    "    final.loc[ final.Jurisdiction.eq(j) & final.AbbreviatedDistrict.eq(ad), col_from : col_to ] = combined_values\n",
    "    final.loc[ final.Jurisdiction.eq(j) & final.AbbreviatedDistrict.eq(ad), 'Jurisdiction' ] = j\n",
    "    final.loc[ final.Jurisdiction.eq(j) & final.AbbreviatedDistrict.eq(ad), 'AbbreviatedDistrict' ] = base + '/' + overlay\n",
    "    \n",
    "    # Update full district name\n",
    "    final.loc[ final['Jurisdiction'].eq(j) & final['AbbreviatedDistrict'].eq(ad), 'Full District Name' ] = zoning.loc[\n",
    "        zoning.Jurisdiction.eq(j) & zoning.AbbreviatedDistrict.eq(base), 'Full District Name'].iloc[0] + '/' + zoning.loc[\n",
    "        zoning.Jurisdiction.eq(j) & zoning.AbbreviatedDistrict.eq(overlay), 'Full District Name'].iloc[0]"
   ]
  },
  {
   "attachments": {},
   "cell_type": "markdown",
   "id": "00303bc8",
   "metadata": {},
   "source": [
    "### Run `overlay()` on each zone that has an overlay"
   ]
  },
  {
   "cell_type": "code",
   "execution_count": null,
   "id": "07fff11b",
   "metadata": {
    "scrolled": true
   },
   "outputs": [],
   "source": [
    "# For example:\n",
    "# \n",
    "# overlay('Bristol', 'R-10/RM')\n",
    "# overlay('Hartford', 'NX-1/Campus Overlay', 'NX-#', 'Campus Overlay')"
   ]
  },
  {
   "attachments": {},
   "cell_type": "markdown",
   "id": "60340350",
   "metadata": {},
   "source": [
    "### Account for non-defined zones"
   ]
  },
  {
   "cell_type": "code",
   "execution_count": null,
   "id": "8d661170",
   "metadata": {
    "scrolled": true
   },
   "outputs": [],
   "source": [
    "final.loc[ final.AbbreviatedDistrict.isin(['NULL', 'Not Zoned']), 'AbbreviatedDistrict' ] = 'Not Zoned'\n",
    "final.loc[ final.AbbreviatedDistrict.isin(['NULL', 'Not Zoned']), 'Full District Name' ] = 'Not Zoned'\n",
    "final.loc[ final.AbbreviatedDistrict.isin(['NULL', 'Not Zoned']), 'Type of Zoning District' ] = 'Nonresidential'\n",
    "\n",
    "final.loc[ final.AbbreviatedDistrict.eq('Not Zoned'), 'MunicipalAcres' ] = 0"
   ]
  },
  {
   "attachments": {},
   "cell_type": "markdown",
   "id": "7f0f3b6b",
   "metadata": {},
   "source": [
    "### Define column names to shorten"
   ]
  },
  {
   "cell_type": "code",
   "execution_count": null,
   "id": "7eb8e838",
   "metadata": {
    "scrolled": true
   },
   "outputs": [],
   "source": [
    "# Column names to shorten\n",
    "cols_xwalk = {\n",
    "    \n",
    "    # Basic district info\n",
    "    'Jurisdiction': 'T',\n",
    "    'Full District Name': 'Z',\n",
    "    'Type of Zoning District': 'Ty',\n",
    "    'MunicipalAcres': 'MA',\n",
    "    \n",
    "    # Type of homes allowed\n",
    "    '1-Family Treatment': '1F',\n",
    "    '2-Family Treatment': '2F',\n",
    "    '3-Family Treatment': '3F',\n",
    "    '4+-Family Treatment': '4F',\n",
    "    'Accessory Dwelling Unit (ADU) Treatment': 'AD',\n",
    "    \n",
    "    # Elderly housing\n",
    "    '1E': '1E',\n",
    "    '2E': '2E',\n",
    "    '3E': '3E',\n",
    "    '4E': '4E',\n",
    "    \n",
    "    # Minimum unit size requirement\n",
    "    '1MUS': '1MUS',\n",
    "    '2MUS': '2MUS',\n",
    "    '3MUS': '3MUS',\n",
    "    '4MUS': '4MUS',\n",
    "    'MUS': 'MUS', # any MUS for tooltip\n",
    "    \n",
    "    # Mininum lot size requirement\n",
    "    '1MLS': '1MLS',\n",
    "    '2MLS': '2MLS',\n",
    "    '3MLS': '3MLS',\n",
    "    '4MLS': '4MLS',\n",
    "    \n",
    "    # Affordable/Elderly only\n",
    "    'Affordable Housing District': 'AHD',\n",
    "    'Elderly Housing District': 'EHD',\n",
    "    \n",
    "    # Accessory Dwelling Units restrictions\n",
    "    'ADU Restricted to ONLY Primary Structure (i.e., No Outbuildings like Garages)': 'APrim',\n",
    "    'AduMaxSizeLimit': 'ASize',\n",
    "    'ADU Prohibition on Rental': 'ARent',\n",
    "    'ADU Employees or Family Only': 'AFam',\n",
    "    'ADU Owner Occupancy Required': 'AOwn',\n",
    "    'AEld': 'AEld', # created above\n",
    "    \n",
    "    # Tooltip notes\n",
    "    'Tooltip Notes': 'TN',\n",
    "}\n",
    "\n",
    "# Values to shorten\n",
    "vals_xwalk = {\n",
    "    'Allowed/Conditional': 'A',\n",
    "    'Special Permit': 'AH',\n",
    "    'Prohibited': 'N',\n",
    "    \n",
    "    'Primarily Residential': 'R',\n",
    "    'Mixed with Residential': 'M',\n",
    "    'No Residential': 'N',\n",
    "    'Nonresidential': 'N'\n",
    "}"
   ]
  },
  {
   "attachments": {},
   "cell_type": "markdown",
   "id": "2579085f",
   "metadata": {},
   "source": [
    "# Save as GeoJSON\n",
    "\n",
    "This file is to be used in the web map. You can further use [`minify-geojson`](https://www.npmjs.com/package/minify-geojson) to compress the file to make it load faster."
   ]
  },
  {
   "cell_type": "code",
   "execution_count": null,
   "id": "f3086505",
   "metadata": {
    "editable": true,
    "scrolled": true,
    "slideshow": {
     "slide_type": ""
    },
    "tags": []
   },
   "outputs": [],
   "source": [
    "(final\n",
    "    .filter( list(cols_xwalk.keys()) + ['geometry'] )\n",
    "    .rename(columns=cols_xwalk)\n",
    "    .replace( vals_xwalk )\n",
    "    .assign(geometry=lambda df_: df_.geometry.simplify(0.00002))\n",
    "    .to_file(f\"{HOME_DIRECTORY}/final.geojson\", driver='GeoJSON')\n",
    ")"
   ]
  },
  {
   "attachments": {},
   "cell_type": "markdown",
   "id": "7b741bb5",
   "metadata": {
    "editable": true,
    "slideshow": {
     "slide_type": ""
    },
    "tags": []
   },
   "source": [
    "### Save as CSV\n",
    "This file can then be used to calculate jurisdiction-level statistics and perform analysis"
   ]
  },
  {
   "cell_type": "code",
   "execution_count": null,
   "id": "9e95b0fb",
   "metadata": {
    "scrolled": true
   },
   "outputs": [],
   "source": [
    "(final\n",
    " .filter([x for x in final.columns if x != 'geometry'])\n",
    " .to_csv('./final.csv')\n",
    ")"
   ]
  }
 ],
 "metadata": {
  "kernelspec": {
   "display_name": "Python 3 (ipykernel)",
   "language": "python",
   "name": "python3"
  },
  "language_info": {
   "codemirror_mode": {
    "name": "ipython",
    "version": 3
   },
   "file_extension": ".py",
   "mimetype": "text/x-python",
   "name": "python",
   "nbconvert_exporter": "python",
   "pygments_lexer": "ipython3",
   "version": "3.11.3"
  },
  "vscode": {
   "interpreter": {
    "hash": "09bf152b664f50f765e4bcfe50e6ebaa1e5932f99a9f5db1b766ad61875f3f02"
   }
  }
 },
 "nbformat": 4,
 "nbformat_minor": 5
}
